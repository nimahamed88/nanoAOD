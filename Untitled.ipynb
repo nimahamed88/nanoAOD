{
 "cells": [
  {
   "cell_type": "code",
   "execution_count": 1,
   "id": "f7794d9b",
   "metadata": {},
   "outputs": [
    {
     "name": "stdout",
     "output_type": "stream",
     "text": [
      "Welcome to JupyROOT 6.24/00\n"
     ]
    }
   ],
   "source": [
    "import ROOT"
   ]
  },
  {
   "cell_type": "code",
   "execution_count": 3,
   "id": "84e6e83e",
   "metadata": {},
   "outputs": [
    {
     "name": "stdout",
     "output_type": "stream",
     "text": [
      "foo       : pass=0          all=10         -- eff=0.00 % cumulative eff=0.00 %\n"
     ]
    }
   ],
   "source": [
    "ROOT.RDataFrame(10).Define(\"x\", \"1\").Filter(\"x>1\", \"foo\").Report().Print()"
   ]
  },
  {
   "cell_type": "code",
   "execution_count": null,
   "id": "e5e9b533",
   "metadata": {},
   "outputs": [],
   "source": []
  }
 ],
 "metadata": {
  "kernelspec": {
   "display_name": "Python 3",
   "language": "python",
   "name": "python3"
  },
  "language_info": {
   "codemirror_mode": {
    "name": "ipython",
    "version": 3
   },
   "file_extension": ".py",
   "mimetype": "text/x-python",
   "name": "python",
   "nbconvert_exporter": "python",
   "pygments_lexer": "ipython3",
   "version": "3.8.6"
  }
 },
 "nbformat": 4,
 "nbformat_minor": 5
}
