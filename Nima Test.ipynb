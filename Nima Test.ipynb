{
 "cells": [
  {
   "cell_type": "markdown",
   "id": "1e59ecc0",
   "metadata": {},
   "source": [
    "### helpers.py: "
   ]
  },
  {
   "cell_type": "code",
   "execution_count": 2,
   "id": "adb6d646",
   "metadata": {},
   "outputs": [],
   "source": [
    "import matplotlib.pyplot as plt \n",
    "import mplhep as hep \n",
    "hep.style.use(\"CMS\") \n",
    "import numpy as np\n",
    "import pandas as pd\n",
    "\n",
    "def inspectDistribution(dflist,\n",
    "                        var,xlabel,bins,ylabel='Events/bin',xscale='linear',yscale='linear'):\n",
    "    \"\"\"\n",
    "    make a simple histogram out of a variable\n",
    "    dflist is a list of (dataframe, mask, label) to overlay in the plot\n",
    "    if mask is None, a trivial mask (all events passing) is used\n",
    "    if documul=True, the cumulative distribution is added\n",
    "    \"\"\"\n",
    "    \n",
    "    fig,ax=plt.subplots(figsize=(8,8))\n",
    "    for df,mask,label in dflist:\n",
    "        if mask is None: mask=np.ones(df.shape[0],dtype=bool)\n",
    "        ax.hist(df[mask][var],label=label,histtype='step',lw=2,bins=bins)\n",
    "    ax.set_xlabel(xlabel)\n",
    "    ax.set_ylabel(ylabel)\n",
    "    ax.set_xscale(xscale)\n",
    "    ax.set_yscale(yscale)\n",
    "    \n",
    "    ax.grid()\n",
    "    if len(dflist)>3:\n",
    "        ax.legend(bbox_to_anchor=(1.,1.),fontsize=16)\n",
    "        fig.set_figwidth(12)\n",
    "    else:\n",
    "        ax.legend()\n",
    "    hep.cms.label(loc=1,data=True,rlabel=r'$\\sqrt{s_{NN}}=13.6 TeV$')\n",
    "    fig.tight_layout()\n",
    "    plt.show()"
   ]
  },
  {
   "cell_type": "code",
   "execution_count": null,
   "id": "a2dd3ffc",
   "metadata": {},
   "outputs": [],
   "source": []
  }
 ],
 "metadata": {
  "kernelspec": {
   "display_name": "Python 3",
   "language": "python",
   "name": "python3"
  },
  "language_info": {
   "codemirror_mode": {
    "name": "ipython",
    "version": 3
   },
   "file_extension": ".py",
   "mimetype": "text/x-python",
   "name": "python",
   "nbconvert_exporter": "python",
   "pygments_lexer": "ipython3",
   "version": "3.8.6"
  }
 },
 "nbformat": 4,
 "nbformat_minor": 5
}
